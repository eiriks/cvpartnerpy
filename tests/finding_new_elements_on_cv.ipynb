{
 "cells": [
  {
   "cell_type": "code",
   "execution_count": 1,
   "metadata": {},
   "outputs": [],
   "source": [
    "#%pip install --upgrade pip"
   ]
  },
  {
   "cell_type": "markdown",
   "metadata": {},
   "source": []
  },
  {
   "cell_type": "code",
   "execution_count": 3,
   "metadata": {},
   "outputs": [
    {
     "name": "stdout",
     "output_type": "stream",
     "text": [
      "cvpartnerpy        0.0.2      /Users/eirik.stavelin/Projects/cvpartnerpy\n",
      "Note: you may need to restart the kernel to use updated packages.\n"
     ]
    }
   ],
   "source": [
    "%load_ext autoreload\n",
    "%autoreload 2\n",
    "%pip list | grep cv\n"
   ]
  },
  {
   "cell_type": "code",
   "execution_count": 4,
   "metadata": {},
   "outputs": [
    {
     "data": {
      "text/plain": [
       "False"
      ]
     },
     "execution_count": 4,
     "metadata": {},
     "output_type": "execute_result"
    }
   ],
   "source": [
    "\n",
    "import os\n",
    "import pandas as pd\n",
    "from cvpartner import CVPartner\n",
    "from cvpartner.helpers import get_new_certification, newest_project_is_older_than_n_months, sort_projects_newest_to_oldest\n",
    "\n",
    "\n",
    "from dotenv import load_dotenv\n",
    "load_dotenv()"
   ]
  },
  {
   "cell_type": "code",
   "execution_count": 5,
   "metadata": {},
   "outputs": [],
   "source": [
    "\n",
    "# når var deres eksamensår?\n",
    "cvp = CVPartner(org='noaignite', api_key=os.environ['CVPARTNER_API_KEY'])\n",
    "# cvp.list_offices()  # 'Frontend', 'Platforms & Services', 'Data Engineering'\n"
   ]
  },
  {
   "cell_type": "code",
   "execution_count": null,
   "metadata": {},
   "outputs": [],
   "source": []
  },
  {
   "cell_type": "code",
   "execution_count": 6,
   "metadata": {},
   "outputs": [],
   "source": [
    "# Fast but, only users, not cvs\n",
    "dataeng = cvp.get_department_by_name(office_name='Data Engineering')\n",
    "\n",
    "# for person in dataeng:\n",
    "#     print(person.get('name'))\n",
    "#     #print(person.keys())\n",
    "# len(dataeng)"
   ]
  },
  {
   "cell_type": "code",
   "execution_count": 7,
   "metadata": {},
   "outputs": [],
   "source": [
    "# Fast, 8.2s for these three (only users)\n",
    "#backend = cvp.get_department_by_name('Platforms & Services')\n",
    "#frontend = cvp.get_department_by_name('Frontend')\n",
    "#data_engineering = cvp.get_department_by_name()\n"
   ]
  },
  {
   "cell_type": "code",
   "execution_count": 8,
   "metadata": {},
   "outputs": [],
   "source": [
    "\n",
    "# ah.. also slow. 1m50s for these three, including CVs\n",
    "#backend = cvp.get_users_and_cvs_from_department('Platforms & Services')\n",
    "#frontend = cvp.get_users_and_cvs_from_department('Frontend')\n",
    "#data_engineering = cvp.get_users_and_cvs_from_department()\n"
   ]
  },
  {
   "cell_type": "code",
   "execution_count": 9,
   "metadata": {},
   "outputs": [],
   "source": [
    "data_engineering = cvp.get_users_and_cvs_from_department()\n",
    "\n",
    "\n"
   ]
  },
  {
   "cell_type": "code",
   "execution_count": 10,
   "metadata": {},
   "outputs": [],
   "source": [
    "# slow 1m50s for these three\n",
    "#backend = cvp.get_department('Platforms & Services')\n",
    "#frontend = cvp.get_department('Frontend')\n",
    "#data_engineering = cvp.get_department()\n"
   ]
  },
  {
   "cell_type": "code",
   "execution_count": 11,
   "metadata": {},
   "outputs": [],
   "source": [
    "dept = data_engineering"
   ]
  },
  {
   "cell_type": "code",
   "execution_count": 12,
   "metadata": {},
   "outputs": [
    {
     "name": "stderr",
     "output_type": "stream",
     "text": [
      "Victor Undli har en uten årstall: ISTQB Foundation Certificate in Software testing\n"
     ]
    },
    {
     "name": "stdout",
     "output_type": "stream",
     "text": [
      "Looking for new certifications...\n",
      "11 new certifications found\n"
     ]
    }
   ],
   "source": [
    "new_certifications: list[tuple[str, list[dict]]] = []\n",
    "\n",
    "print(\"Looking for new certifications...\")\n",
    "for person, cv in dept[:]:\n",
    "    new_certs = get_new_certification(cv, \n",
    "                                      days_to_look_back=1000)\n",
    "    if new_certs:\n",
    "        new_certifications.append(\n",
    "            (cv.get('navn'), new_certs)\n",
    "        )\n",
    "print(len(new_certifications), \"new certifications found\")\n",
    "\n",
    "# for name, certs in new_certifications:\n",
    "#     print(name)\n",
    "#     for cert in certs:\n",
    "#         print(f\"\\t- {cert.get('name').get('no')}\")\n"
   ]
  },
  {
   "cell_type": "code",
   "execution_count": 13,
   "metadata": {},
   "outputs": [
    {
     "name": "stdout",
     "output_type": "stream",
     "text": [
      "\n",
      "Anders Haukvik newest_project_is_older_than_n_months: False\n",
      "\n",
      "Anita Nicole Lipsky newest_project_is_older_than_n_months: False\n",
      "\n",
      "Bendik Austnes newest_project_is_older_than_n_months: False\n",
      "\n",
      "Christoffer Holm-Kjøhl newest_project_is_older_than_n_months: False\n",
      "\n",
      "Dragos-Luchian Ismana newest_project_is_older_than_n_months: True\n",
      "\n",
      "Eirik Stavelin newest_project_is_older_than_n_months: False\n",
      "\n",
      "Emanuele Caprioli newest_project_is_older_than_n_months: True\n",
      "\n",
      "Erik Martinsen newest_project_is_older_than_n_months: False\n",
      "\n",
      "Erlend Øien newest_project_is_older_than_n_months: False\n",
      "\n",
      "Giske Naper Freberg newest_project_is_older_than_n_months: True\n",
      "\n",
      "Hans Erik Lange newest_project_is_older_than_n_months: True\n",
      "\n",
      "Håkon Kvalen newest_project_is_older_than_n_months: False\n",
      "\n",
      "Inger Skjærholt newest_project_is_older_than_n_months: True\n",
      "\n",
      "Iselin Eng newest_project_is_older_than_n_months: False\n",
      "\n",
      "Jan Tore Kyrdalen newest_project_is_older_than_n_months: True\n",
      "\n",
      "Johan Cheu Hang Hoi newest_project_is_older_than_n_months: False\n",
      "\n",
      "Johanne Skogvang newest_project_is_older_than_n_months: False\n",
      "\n",
      "Julian Andersen newest_project_is_older_than_n_months: False\n",
      "\n",
      "Jørgen Hellemann newest_project_is_older_than_n_months: False\n",
      "\n",
      "Karina Borlaug newest_project_is_older_than_n_months: True\n",
      "\n",
      "Lars Christian Kolsaker newest_project_is_older_than_n_months: False\n",
      "\n",
      "Marianne Pettersen newest_project_is_older_than_n_months: False\n",
      "\n",
      "Nikolai Molvik newest_project_is_older_than_n_months: False\n",
      "\n",
      "Paulina Zientarska newest_project_is_older_than_n_months: True\n",
      "\n",
      "Peder Frang newest_project_is_older_than_n_months: True\n",
      "\n",
      "Robert Kolner newest_project_is_older_than_n_months: True\n",
      "\n",
      "Tushar Thakkar newest_project_is_older_than_n_months: False\n",
      "\n",
      "Victor Undli newest_project_is_older_than_n_months: False\n",
      "\n",
      "Örjan Andersson newest_project_is_older_than_n_months: False\n",
      "\n",
      "Øyvind Bratvedt newest_project_is_older_than_n_months: True\n"
     ]
    }
   ],
   "source": [
    "# find CVs that lacks updated prosjetc\n",
    "people_who_needs_to_update_cv: list[tuple[str, dict]] = []\n",
    "\n",
    "for person, cv in dept[:30]:\n",
    "    # print()\n",
    "    # print(f\"{cv.get('navn')} newest_project_is_older_than_n_months: {newest_project_is_older_than_n_months(cv)}\")\n",
    "\n",
    "    sorted_projects = sort_projects_newest_to_oldest(cv)\n",
    "    # print(sorted_projects)\n",
    "    # for date_from, date_to, delta_monts, project in sorted_projects:\n",
    "    #     print(\n",
    "    #         f\"\\t fra: {date_from.date()} - til: {date_to.date() if date_to else None} {delta_monts}mnd @ {project.get('customer').get('no')}\")\n",
    "\n",
    "\n",
    "\n"
   ]
  },
  {
   "cell_type": "code",
   "execution_count": null,
   "metadata": {},
   "outputs": [],
   "source": []
  },
  {
   "cell_type": "code",
   "execution_count": null,
   "metadata": {},
   "outputs": [],
   "source": []
  }
 ],
 "metadata": {
  "kernelspec": {
   "display_name": "Python 3",
   "language": "python",
   "name": "python3"
  },
  "language_info": {
   "codemirror_mode": {
    "name": "ipython",
    "version": 3
   },
   "file_extension": ".py",
   "mimetype": "text/x-python",
   "name": "python",
   "nbconvert_exporter": "python",
   "pygments_lexer": "ipython3",
   "version": "3.11.0b5"
  },
  "orig_nbformat": 4,
  "vscode": {
   "interpreter": {
    "hash": "9a6b659a3d1588716cdbc9a319ee6be6f40424ce0e72d5f4d512c63bd8146a4f"
   }
  }
 },
 "nbformat": 4,
 "nbformat_minor": 2
}
